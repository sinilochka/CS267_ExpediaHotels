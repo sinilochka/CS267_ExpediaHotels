{
 "cells": [
  {
   "cell_type": "markdown",
   "metadata": {},
   "source": [
    "# Evaluation\n",
    "(after report 2)"
   ]
  },
  {
   "cell_type": "markdown",
   "metadata": {},
   "source": [
    "Goal:\n",
    "to predict 3 classes being\n",
    "0 - no action\n",
    "1 - click\n",
    "2 - booking"
   ]
  },
  {
   "cell_type": "markdown",
   "metadata": {},
   "source": [
    "Import all the necessary libraries:"
   ]
  },
  {
   "cell_type": "code",
   "execution_count": 27,
   "metadata": {
    "collapsed": false
   },
   "outputs": [],
   "source": [
    "import pandas as pd\n",
    "from sklearn.ensemble import GradientBoostingClassifier\n",
    "from sklearn import cross_validation\n",
    "import numpy as np\n",
    "from sklearn.metrics import accuracy_score, precision_score, recall_score\n",
    "from sklearn import preprocessing\n",
    "from sklearn.metrics import precision_recall_fscore_support\n",
    "from sklearn.linear_model import LogisticRegression\n",
    "from sklearn.linear_model import RidgeClassifier\n",
    "from sklearn.linear_model import SGDClassifier\n",
    "from sklearn.svm import LinearSVC"
   ]
  },
  {
   "cell_type": "markdown",
   "metadata": {},
   "source": [
    "Load 3 samples based on earlier data processing:"
   ]
  },
  {
   "cell_type": "code",
   "execution_count": 2,
   "metadata": {
    "collapsed": true
   },
   "outputs": [],
   "source": [
    "random = pd.read_csv('pig_export/processed_r.csv') # import random data\n",
    "balanced = pd.read_csv('pig_export/processed_b.csv') # import balanced data"
   ]
  },
  {
   "cell_type": "markdown",
   "metadata": {},
   "source": [
    "Check the data:"
   ]
  },
  {
   "cell_type": "code",
   "execution_count": 9,
   "metadata": {
    "collapsed": false
   },
   "outputs": [
    {
     "data": {
      "text/plain": [
       "(600000, 33)"
      ]
     },
     "execution_count": 9,
     "metadata": {},
     "output_type": "execute_result"
    }
   ],
   "source": [
    "random.shape"
   ]
  },
  {
   "cell_type": "code",
   "execution_count": 8,
   "metadata": {
    "collapsed": false
   },
   "outputs": [
    {
     "data": {
      "text/plain": [
       "(643672, 33)"
      ]
     },
     "execution_count": 8,
     "metadata": {},
     "output_type": "execute_result"
    }
   ],
   "source": [
    "balanced = balanced.drop('gross_bookings_usd', axis=1)\n",
    "balanced.shape"
   ]
  },
  {
   "cell_type": "markdown",
   "metadata": {},
   "source": [
    "Target and features:"
   ]
  },
  {
   "cell_type": "code",
   "execution_count": 10,
   "metadata": {
    "collapsed": true
   },
   "outputs": [],
   "source": [
    "target_random = np.ravel(random['class'].values)\n",
    "target_balanced = np.ravel(balanced['class'].values)"
   ]
  },
  {
   "cell_type": "code",
   "execution_count": 11,
   "metadata": {
    "collapsed": true
   },
   "outputs": [],
   "source": [
    "features_random = random.drop(['class'], axis=1)\n",
    "features_balanced = balanced.drop(['class'], axis=1)"
   ]
  },
  {
   "cell_type": "markdown",
   "metadata": {},
   "source": [
    "Substitute missing values by mean/median/mode:"
   ]
  },
  {
   "cell_type": "code",
   "execution_count": 12,
   "metadata": {
    "collapsed": false
   },
   "outputs": [],
   "source": [
    "# continuous\n",
    "# random\n",
    "random_df = features_random[['prop_review_score', 'prop_location_score1', 'prop_location_score2', \n",
    "                                 'prop_log_historical_price', 'price_usd', 'orig_destination_distance']]\n",
    "imp = preprocessing.Imputer(strategy='mean', axis=0) # strategy='median'\n",
    "imp.fit(random_df)\n",
    "random_df1 = pd.DataFrame(imp.transform(random_df))\n",
    "random_df1.columns = random_df.columns\n",
    "# balanced\n",
    "balanced_df = features_balanced[['prop_review_score', 'prop_location_score1', 'prop_location_score2', \n",
    "                                 'prop_log_historical_price', 'price_usd', 'orig_destination_distance']]\n",
    "imp1 = preprocessing.Imputer(strategy='mean', axis=0) # strategy='median'\n",
    "imp1.fit(balanced_df)\n",
    "balanced_df1 = pd.DataFrame(imp1.transform(balanced_df))\n",
    "balanced_df1.columns = balanced_df.columns"
   ]
  },
  {
   "cell_type": "code",
   "execution_count": 13,
   "metadata": {
    "collapsed": false
   },
   "outputs": [],
   "source": [
    "# categorical\n",
    "# random\n",
    "random_df2 = features_random[['comp2_rate', 'comp2_inv', 'comp5_rate', \n",
    "                                 'comp5_inv', 'comp8_rate', 'comp8_inv']]\n",
    "imp = preprocessing.Imputer(strategy='most_frequent', axis=0)\n",
    "imp.fit(random_df2)\n",
    "random_df3 = pd.DataFrame(imp.transform(random_df2))\n",
    "random_df3.columns = random_df2.columns\n",
    "# balanced\n",
    "balanced_df2 = features_balanced[['comp2_rate', 'comp2_inv', 'comp5_rate', \n",
    "                                 'comp5_inv', 'comp8_rate', 'comp8_inv']]\n",
    "imp1 = preprocessing.Imputer(strategy='most_frequent', axis=0)\n",
    "imp1.fit(balanced_df2)\n",
    "balanced_df3 = pd.DataFrame(imp1.transform(balanced_df2))\n",
    "balanced_df3.columns = balanced_df2.columns"
   ]
  },
  {
   "cell_type": "code",
   "execution_count": 14,
   "metadata": {
    "collapsed": false
   },
   "outputs": [],
   "source": [
    "# random\n",
    "random_recent_rest = features_random[['srch_id','site_id','visitor_location_country_id','prop_country_id',\n",
    "                                     'prop_id','prop_starrating','prop_brand_bool','position','promotion_flag',\n",
    "                                     'srch_destination_id','srch_length_of_stay','srch_booking_window',\n",
    "                                     'srch_adults_count','srch_children_count','srch_room_count',\n",
    "                                     'srch_saturday_night_bool','random_bool','year','month','day']]\n",
    "random_recent = pd.DataFrame(np.concatenate((random_recent_rest, random_df1, random_df3), axis=1))\n",
    "random_recent.columns = ['srch_id','site_id','visitor_location_country_id','prop_country_id',\n",
    "                           'prop_id','prop_starrating','prop_brand_bool','position','promotion_flag',\n",
    "                           'srch_destination_id','srch_length_of_stay','srch_booking_window',\n",
    "                           'srch_adults_count','srch_children_count','srch_room_count',\n",
    "                           'srch_saturday_night_bool','random_bool','year','month','day',\n",
    "                            'prop_review_score', 'prop_location_score1', 'prop_location_score2', \n",
    "                            'prop_log_historical_price', 'price_usd', 'orig_destination_distance', \n",
    "                             'comp2_rate', 'comp2_inv', 'comp5_rate', \n",
    "                             'comp5_inv', 'comp8_rate', 'comp8_inv']\n",
    "# balanced\n",
    "balanced_recent_rest = features_balanced[['srch_id','site_id','visitor_location_country_id','prop_country_id',\n",
    "                                     'prop_id','prop_starrating','prop_brand_bool','position','promotion_flag',\n",
    "                                     'srch_destination_id','srch_length_of_stay','srch_booking_window',\n",
    "                                     'srch_adults_count','srch_children_count','srch_room_count',\n",
    "                                     'srch_saturday_night_bool','random_bool','year','month','day']]\n",
    "balanced_recent = pd.DataFrame(np.concatenate((balanced_recent_rest, balanced_df1, balanced_df3), axis=1))\n",
    "balanced_recent.columns = ['srch_id','site_id','visitor_location_country_id','prop_country_id',\n",
    "                           'prop_id','prop_starrating','prop_brand_bool','position','promotion_flag',\n",
    "                           'srch_destination_id','srch_length_of_stay','srch_booking_window',\n",
    "                           'srch_adults_count','srch_children_count','srch_room_count',\n",
    "                           'srch_saturday_night_bool','random_bool','year','month','day',\n",
    "                            'prop_review_score', 'prop_location_score1', 'prop_location_score2', \n",
    "                            'prop_log_historical_price', 'price_usd', 'orig_destination_distance', \n",
    "                             'comp2_rate', 'comp2_inv', 'comp5_rate', \n",
    "                             'comp5_inv', 'comp8_rate', 'comp8_inv']"
   ]
  },
  {
   "cell_type": "code",
   "execution_count": 11,
   "metadata": {
    "collapsed": false
   },
   "outputs": [
    {
     "data": {
      "text/plain": [
       "(600000, 32)"
      ]
     },
     "execution_count": 11,
     "metadata": {},
     "output_type": "execute_result"
    }
   ],
   "source": [
    "random_recent.shape"
   ]
  },
  {
   "cell_type": "code",
   "execution_count": 15,
   "metadata": {
    "collapsed": false
   },
   "outputs": [
    {
     "data": {
      "text/plain": [
       "(643672, 32)"
      ]
     },
     "execution_count": 15,
     "metadata": {},
     "output_type": "execute_result"
    }
   ],
   "source": [
    "balanced_recent.shape"
   ]
  },
  {
   "cell_type": "markdown",
   "metadata": {},
   "source": [
    "Normalize/scale:"
   ]
  },
  {
   "cell_type": "code",
   "execution_count": 16,
   "metadata": {
    "collapsed": false
   },
   "outputs": [],
   "source": [
    "# random\n",
    "random_df = random_recent[['prop_review_score', 'prop_location_score1', 'prop_location_score2', \n",
    "                                 'prop_log_historical_price', 'price_usd', 'orig_destination_distance']]\n",
    "random_df_rest = random_recent[['srch_id','site_id','visitor_location_country_id','prop_country_id',\n",
    "                                     'prop_id','prop_starrating','prop_brand_bool','position','promotion_flag',\n",
    "                                     'srch_destination_id','srch_length_of_stay','srch_booking_window',\n",
    "                                     'srch_adults_count','srch_children_count','srch_room_count',\n",
    "                                     'srch_saturday_night_bool','random_bool','comp2_rate','comp2_inv',\n",
    "                                     'comp5_rate','comp5_inv','comp8_rate','comp8_inv','year','month','day']]\n",
    "standard_scaler0 = preprocessing.StandardScaler(copy=False)\n",
    "x_standardized0 = standard_scaler0.fit_transform(random_df)\n",
    "random_most_recent = pd.DataFrame(np.concatenate((random_df_rest, x_standardized0), axis=1))\n",
    "random_most_recent.columns = ['srch_id','site_id','visitor_location_country_id','prop_country_id',\n",
    "                                     'prop_id','prop_starrating','prop_brand_bool','position','promotion_flag',\n",
    "                                     'srch_destination_id','srch_length_of_stay','srch_booking_window',\n",
    "                                     'srch_adults_count','srch_children_count','srch_room_count',\n",
    "                                     'srch_saturday_night_bool','random_bool','comp2_rate','comp2_inv',\n",
    "                                     'comp5_rate','comp5_inv','comp8_rate','comp8_inv','year','month','day',\n",
    "                               'prop_review_score', 'prop_location_score1', 'prop_location_score2', \n",
    "                                 'prop_log_historical_price', 'price_usd', 'orig_destination_distance']\n",
    "\n",
    "# balanced\n",
    "balanced_df = balanced_recent[['prop_review_score', 'prop_location_score1', 'prop_location_score2', \n",
    "                                 'prop_log_historical_price', 'price_usd', 'orig_destination_distance']]\n",
    "balanced_df_rest = balanced_recent[['srch_id','site_id','visitor_location_country_id','prop_country_id',\n",
    "                                     'prop_id','prop_starrating','prop_brand_bool','position','promotion_flag',\n",
    "                                     'srch_destination_id','srch_length_of_stay','srch_booking_window',\n",
    "                                     'srch_adults_count','srch_children_count','srch_room_count',\n",
    "                                     'srch_saturday_night_bool','random_bool','comp2_rate','comp2_inv',\n",
    "                                     'comp5_rate','comp5_inv','comp8_rate','comp8_inv','year','month','day']]\n",
    "standard_scaler1 = preprocessing.StandardScaler(copy=False)\n",
    "x_standardized1 = standard_scaler1.fit_transform(balanced_df)\n",
    "balanced_most_recent = pd.DataFrame(np.concatenate((balanced_df_rest, x_standardized1), axis=1))\n",
    "balanced_most_recent.columns = ['srch_id','site_id','visitor_location_country_id','prop_country_id',\n",
    "                                     'prop_id','prop_starrating','prop_brand_bool','position','promotion_flag',\n",
    "                                     'srch_destination_id','srch_length_of_stay','srch_booking_window',\n",
    "                                     'srch_adults_count','srch_children_count','srch_room_count',\n",
    "                                     'srch_saturday_night_bool','random_bool','comp2_rate','comp2_inv',\n",
    "                                     'comp5_rate','comp5_inv','comp8_rate','comp8_inv','year','month','day',\n",
    "                               'prop_review_score', 'prop_location_score1', 'prop_location_score2', \n",
    "                                 'prop_log_historical_price', 'price_usd', 'orig_destination_distance']"
   ]
  },
  {
   "cell_type": "code",
   "execution_count": 19,
   "metadata": {
    "collapsed": false
   },
   "outputs": [
    {
     "data": {
      "text/plain": [
       "((600000, 32), (643672, 32))"
      ]
     },
     "execution_count": 19,
     "metadata": {},
     "output_type": "execute_result"
    }
   ],
   "source": [
    "random_most_recent.shape, balanced_most_recent.shape"
   ]
  },
  {
   "cell_type": "code",
   "execution_count": 14,
   "metadata": {
    "collapsed": false
   },
   "outputs": [
    {
     "data": {
      "text/html": [
       "<div>\n",
       "<table border=\"1\" class=\"dataframe\">\n",
       "  <thead>\n",
       "    <tr style=\"text-align: right;\">\n",
       "      <th></th>\n",
       "      <th>srch_id</th>\n",
       "      <th>site_id</th>\n",
       "      <th>visitor_location_country_id</th>\n",
       "      <th>prop_country_id</th>\n",
       "      <th>prop_id</th>\n",
       "      <th>prop_starrating</th>\n",
       "      <th>prop_brand_bool</th>\n",
       "      <th>position</th>\n",
       "      <th>promotion_flag</th>\n",
       "      <th>srch_destination_id</th>\n",
       "      <th>...</th>\n",
       "      <th>comp8_inv</th>\n",
       "      <th>year</th>\n",
       "      <th>month</th>\n",
       "      <th>day</th>\n",
       "      <th>prop_review_score</th>\n",
       "      <th>prop_location_score1</th>\n",
       "      <th>prop_location_score2</th>\n",
       "      <th>prop_log_historical_price</th>\n",
       "      <th>price_usd</th>\n",
       "      <th>orig_destination_distance</th>\n",
       "    </tr>\n",
       "  </thead>\n",
       "  <tbody>\n",
       "    <tr>\n",
       "      <th>0</th>\n",
       "      <td>623365.0</td>\n",
       "      <td>5.0</td>\n",
       "      <td>219.0</td>\n",
       "      <td>219.0</td>\n",
       "      <td>11440.0</td>\n",
       "      <td>2.0</td>\n",
       "      <td>0.0</td>\n",
       "      <td>27.0</td>\n",
       "      <td>0.0</td>\n",
       "      <td>11621.0</td>\n",
       "      <td>...</td>\n",
       "      <td>0.0</td>\n",
       "      <td>2013.0</td>\n",
       "      <td>1.0</td>\n",
       "      <td>2.0</td>\n",
       "      <td>-1.218106</td>\n",
       "      <td>-1.159607</td>\n",
       "      <td>-5.900217e-16</td>\n",
       "      <td>-0.071217</td>\n",
       "      <td>-0.013644</td>\n",
       "      <td>0.000000</td>\n",
       "    </tr>\n",
       "    <tr>\n",
       "      <th>1</th>\n",
       "      <td>177303.0</td>\n",
       "      <td>15.0</td>\n",
       "      <td>55.0</td>\n",
       "      <td>215.0</td>\n",
       "      <td>79374.0</td>\n",
       "      <td>4.0</td>\n",
       "      <td>0.0</td>\n",
       "      <td>7.0</td>\n",
       "      <td>1.0</td>\n",
       "      <td>25564.0</td>\n",
       "      <td>...</td>\n",
       "      <td>0.0</td>\n",
       "      <td>2013.0</td>\n",
       "      <td>5.0</td>\n",
       "      <td>25.0</td>\n",
       "      <td>0.211336</td>\n",
       "      <td>0.387823</td>\n",
       "      <td>-8.454672e-01</td>\n",
       "      <td>0.458058</td>\n",
       "      <td>-0.011721</td>\n",
       "      <td>0.000000</td>\n",
       "    </tr>\n",
       "    <tr>\n",
       "      <th>2</th>\n",
       "      <td>186217.0</td>\n",
       "      <td>7.0</td>\n",
       "      <td>100.0</td>\n",
       "      <td>100.0</td>\n",
       "      <td>71023.0</td>\n",
       "      <td>3.0</td>\n",
       "      <td>0.0</td>\n",
       "      <td>7.0</td>\n",
       "      <td>0.0</td>\n",
       "      <td>1996.0</td>\n",
       "      <td>...</td>\n",
       "      <td>0.0</td>\n",
       "      <td>2013.0</td>\n",
       "      <td>6.0</td>\n",
       "      <td>28.0</td>\n",
       "      <td>0.211336</td>\n",
       "      <td>0.361706</td>\n",
       "      <td>1.182524e+00</td>\n",
       "      <td>-2.357468</td>\n",
       "      <td>-0.007850</td>\n",
       "      <td>-0.718722</td>\n",
       "    </tr>\n",
       "    <tr>\n",
       "      <th>3</th>\n",
       "      <td>377107.0</td>\n",
       "      <td>5.0</td>\n",
       "      <td>219.0</td>\n",
       "      <td>219.0</td>\n",
       "      <td>50605.0</td>\n",
       "      <td>3.0</td>\n",
       "      <td>1.0</td>\n",
       "      <td>14.0</td>\n",
       "      <td>0.0</td>\n",
       "      <td>15712.0</td>\n",
       "      <td>...</td>\n",
       "      <td>0.0</td>\n",
       "      <td>2012.0</td>\n",
       "      <td>11.0</td>\n",
       "      <td>29.0</td>\n",
       "      <td>0.211336</td>\n",
       "      <td>-0.709090</td>\n",
       "      <td>-5.963813e-02</td>\n",
       "      <td>0.441689</td>\n",
       "      <td>-0.008983</td>\n",
       "      <td>-0.707327</td>\n",
       "    </tr>\n",
       "    <tr>\n",
       "      <th>4</th>\n",
       "      <td>324498.0</td>\n",
       "      <td>5.0</td>\n",
       "      <td>219.0</td>\n",
       "      <td>219.0</td>\n",
       "      <td>75716.0</td>\n",
       "      <td>4.0</td>\n",
       "      <td>1.0</td>\n",
       "      <td>11.0</td>\n",
       "      <td>0.0</td>\n",
       "      <td>2502.0</td>\n",
       "      <td>...</td>\n",
       "      <td>0.0</td>\n",
       "      <td>2013.0</td>\n",
       "      <td>3.0</td>\n",
       "      <td>11.0</td>\n",
       "      <td>0.211336</td>\n",
       "      <td>-0.709090</td>\n",
       "      <td>-7.760251e-01</td>\n",
       "      <td>0.338016</td>\n",
       "      <td>-0.009874</td>\n",
       "      <td>-0.549108</td>\n",
       "    </tr>\n",
       "  </tbody>\n",
       "</table>\n",
       "<p>5 rows × 32 columns</p>\n",
       "</div>"
      ],
      "text/plain": [
       "    srch_id  site_id  visitor_location_country_id  prop_country_id  prop_id  \\\n",
       "0  623365.0      5.0                        219.0            219.0  11440.0   \n",
       "1  177303.0     15.0                         55.0            215.0  79374.0   \n",
       "2  186217.0      7.0                        100.0            100.0  71023.0   \n",
       "3  377107.0      5.0                        219.0            219.0  50605.0   \n",
       "4  324498.0      5.0                        219.0            219.0  75716.0   \n",
       "\n",
       "   prop_starrating  prop_brand_bool  position  promotion_flag  \\\n",
       "0              2.0              0.0      27.0             0.0   \n",
       "1              4.0              0.0       7.0             1.0   \n",
       "2              3.0              0.0       7.0             0.0   \n",
       "3              3.0              1.0      14.0             0.0   \n",
       "4              4.0              1.0      11.0             0.0   \n",
       "\n",
       "   srch_destination_id            ...              comp8_inv    year  month  \\\n",
       "0              11621.0            ...                    0.0  2013.0    1.0   \n",
       "1              25564.0            ...                    0.0  2013.0    5.0   \n",
       "2               1996.0            ...                    0.0  2013.0    6.0   \n",
       "3              15712.0            ...                    0.0  2012.0   11.0   \n",
       "4               2502.0            ...                    0.0  2013.0    3.0   \n",
       "\n",
       "    day  prop_review_score  prop_location_score1  prop_location_score2  \\\n",
       "0   2.0          -1.218106             -1.159607         -5.900217e-16   \n",
       "1  25.0           0.211336              0.387823         -8.454672e-01   \n",
       "2  28.0           0.211336              0.361706          1.182524e+00   \n",
       "3  29.0           0.211336             -0.709090         -5.963813e-02   \n",
       "4  11.0           0.211336             -0.709090         -7.760251e-01   \n",
       "\n",
       "   prop_log_historical_price  price_usd  orig_destination_distance  \n",
       "0                  -0.071217  -0.013644                   0.000000  \n",
       "1                   0.458058  -0.011721                   0.000000  \n",
       "2                  -2.357468  -0.007850                  -0.718722  \n",
       "3                   0.441689  -0.008983                  -0.707327  \n",
       "4                   0.338016  -0.009874                  -0.549108  \n",
       "\n",
       "[5 rows x 32 columns]"
      ]
     },
     "execution_count": 14,
     "metadata": {},
     "output_type": "execute_result"
    }
   ],
   "source": [
    "random_most_recent.head()"
   ]
  },
  {
   "cell_type": "code",
   "execution_count": 20,
   "metadata": {
    "collapsed": false
   },
   "outputs": [
    {
     "data": {
      "text/html": [
       "<div>\n",
       "<table border=\"1\" class=\"dataframe\">\n",
       "  <thead>\n",
       "    <tr style=\"text-align: right;\">\n",
       "      <th></th>\n",
       "      <th>srch_id</th>\n",
       "      <th>site_id</th>\n",
       "      <th>visitor_location_country_id</th>\n",
       "      <th>prop_country_id</th>\n",
       "      <th>prop_id</th>\n",
       "      <th>prop_starrating</th>\n",
       "      <th>prop_brand_bool</th>\n",
       "      <th>position</th>\n",
       "      <th>promotion_flag</th>\n",
       "      <th>srch_destination_id</th>\n",
       "      <th>...</th>\n",
       "      <th>comp8_inv</th>\n",
       "      <th>year</th>\n",
       "      <th>month</th>\n",
       "      <th>day</th>\n",
       "      <th>prop_review_score</th>\n",
       "      <th>prop_location_score1</th>\n",
       "      <th>prop_location_score2</th>\n",
       "      <th>prop_log_historical_price</th>\n",
       "      <th>price_usd</th>\n",
       "      <th>orig_destination_distance</th>\n",
       "    </tr>\n",
       "  </thead>\n",
       "  <tbody>\n",
       "    <tr>\n",
       "      <th>0</th>\n",
       "      <td>1.0</td>\n",
       "      <td>12.0</td>\n",
       "      <td>187.0</td>\n",
       "      <td>219.0</td>\n",
       "      <td>893.0</td>\n",
       "      <td>3.0</td>\n",
       "      <td>1.0</td>\n",
       "      <td>27.0</td>\n",
       "      <td>0.0</td>\n",
       "      <td>23246.0</td>\n",
       "      <td>...</td>\n",
       "      <td>0.0</td>\n",
       "      <td>2013.0</td>\n",
       "      <td>4.0</td>\n",
       "      <td>4.0</td>\n",
       "      <td>-0.384280</td>\n",
       "      <td>-0.042875</td>\n",
       "      <td>-0.737290</td>\n",
       "      <td>0.331697</td>\n",
       "      <td>-0.010989</td>\n",
       "      <td>-1.359045e-16</td>\n",
       "    </tr>\n",
       "    <tr>\n",
       "      <th>1</th>\n",
       "      <td>1.0</td>\n",
       "      <td>12.0</td>\n",
       "      <td>187.0</td>\n",
       "      <td>219.0</td>\n",
       "      <td>10404.0</td>\n",
       "      <td>4.0</td>\n",
       "      <td>1.0</td>\n",
       "      <td>26.0</td>\n",
       "      <td>0.0</td>\n",
       "      <td>23246.0</td>\n",
       "      <td>...</td>\n",
       "      <td>0.0</td>\n",
       "      <td>2013.0</td>\n",
       "      <td>4.0</td>\n",
       "      <td>4.0</td>\n",
       "      <td>0.148029</td>\n",
       "      <td>-0.458841</td>\n",
       "      <td>-0.910807</td>\n",
       "      <td>0.375340</td>\n",
       "      <td>-0.005420</td>\n",
       "      <td>-1.359045e-16</td>\n",
       "    </tr>\n",
       "    <tr>\n",
       "      <th>2</th>\n",
       "      <td>1.0</td>\n",
       "      <td>12.0</td>\n",
       "      <td>187.0</td>\n",
       "      <td>219.0</td>\n",
       "      <td>21315.0</td>\n",
       "      <td>3.0</td>\n",
       "      <td>1.0</td>\n",
       "      <td>21.0</td>\n",
       "      <td>0.0</td>\n",
       "      <td>23246.0</td>\n",
       "      <td>...</td>\n",
       "      <td>0.0</td>\n",
       "      <td>2013.0</td>\n",
       "      <td>4.0</td>\n",
       "      <td>4.0</td>\n",
       "      <td>0.680338</td>\n",
       "      <td>-0.458841</td>\n",
       "      <td>-0.853168</td>\n",
       "      <td>0.315331</td>\n",
       "      <td>-0.004656</td>\n",
       "      <td>-1.359045e-16</td>\n",
       "    </tr>\n",
       "    <tr>\n",
       "      <th>3</th>\n",
       "      <td>1.0</td>\n",
       "      <td>12.0</td>\n",
       "      <td>187.0</td>\n",
       "      <td>219.0</td>\n",
       "      <td>27348.0</td>\n",
       "      <td>2.0</td>\n",
       "      <td>1.0</td>\n",
       "      <td>34.0</td>\n",
       "      <td>0.0</td>\n",
       "      <td>23246.0</td>\n",
       "      <td>...</td>\n",
       "      <td>0.0</td>\n",
       "      <td>2013.0</td>\n",
       "      <td>4.0</td>\n",
       "      <td>4.0</td>\n",
       "      <td>0.148029</td>\n",
       "      <td>-0.042875</td>\n",
       "      <td>-0.925216</td>\n",
       "      <td>0.026196</td>\n",
       "      <td>0.031047</td>\n",
       "      <td>-1.359045e-16</td>\n",
       "    </tr>\n",
       "    <tr>\n",
       "      <th>4</th>\n",
       "      <td>1.0</td>\n",
       "      <td>12.0</td>\n",
       "      <td>187.0</td>\n",
       "      <td>219.0</td>\n",
       "      <td>29604.0</td>\n",
       "      <td>4.0</td>\n",
       "      <td>1.0</td>\n",
       "      <td>4.0</td>\n",
       "      <td>0.0</td>\n",
       "      <td>23246.0</td>\n",
       "      <td>...</td>\n",
       "      <td>0.0</td>\n",
       "      <td>2013.0</td>\n",
       "      <td>4.0</td>\n",
       "      <td>4.0</td>\n",
       "      <td>-0.384280</td>\n",
       "      <td>-0.168325</td>\n",
       "      <td>-0.255165</td>\n",
       "      <td>0.320786</td>\n",
       "      <td>-0.007713</td>\n",
       "      <td>-1.359045e-16</td>\n",
       "    </tr>\n",
       "  </tbody>\n",
       "</table>\n",
       "<p>5 rows × 32 columns</p>\n",
       "</div>"
      ],
      "text/plain": [
       "   srch_id  site_id  visitor_location_country_id  prop_country_id  prop_id  \\\n",
       "0      1.0     12.0                        187.0            219.0    893.0   \n",
       "1      1.0     12.0                        187.0            219.0  10404.0   \n",
       "2      1.0     12.0                        187.0            219.0  21315.0   \n",
       "3      1.0     12.0                        187.0            219.0  27348.0   \n",
       "4      1.0     12.0                        187.0            219.0  29604.0   \n",
       "\n",
       "   prop_starrating  prop_brand_bool  position  promotion_flag  \\\n",
       "0              3.0              1.0      27.0             0.0   \n",
       "1              4.0              1.0      26.0             0.0   \n",
       "2              3.0              1.0      21.0             0.0   \n",
       "3              2.0              1.0      34.0             0.0   \n",
       "4              4.0              1.0       4.0             0.0   \n",
       "\n",
       "   srch_destination_id            ...              comp8_inv    year  month  \\\n",
       "0              23246.0            ...                    0.0  2013.0    4.0   \n",
       "1              23246.0            ...                    0.0  2013.0    4.0   \n",
       "2              23246.0            ...                    0.0  2013.0    4.0   \n",
       "3              23246.0            ...                    0.0  2013.0    4.0   \n",
       "4              23246.0            ...                    0.0  2013.0    4.0   \n",
       "\n",
       "   day  prop_review_score  prop_location_score1  prop_location_score2  \\\n",
       "0  4.0          -0.384280             -0.042875             -0.737290   \n",
       "1  4.0           0.148029             -0.458841             -0.910807   \n",
       "2  4.0           0.680338             -0.458841             -0.853168   \n",
       "3  4.0           0.148029             -0.042875             -0.925216   \n",
       "4  4.0          -0.384280             -0.168325             -0.255165   \n",
       "\n",
       "   prop_log_historical_price  price_usd  orig_destination_distance  \n",
       "0                   0.331697  -0.010989              -1.359045e-16  \n",
       "1                   0.375340  -0.005420              -1.359045e-16  \n",
       "2                   0.315331  -0.004656              -1.359045e-16  \n",
       "3                   0.026196   0.031047              -1.359045e-16  \n",
       "4                   0.320786  -0.007713              -1.359045e-16  \n",
       "\n",
       "[5 rows x 32 columns]"
      ]
     },
     "execution_count": 20,
     "metadata": {},
     "output_type": "execute_result"
    }
   ],
   "source": [
    "balanced_most_recent.head()"
   ]
  },
  {
   "cell_type": "markdown",
   "metadata": {},
   "source": [
    "Split data into train and test with test being 30% of the train:"
   ]
  },
  {
   "cell_type": "code",
   "execution_count": 21,
   "metadata": {
    "collapsed": true
   },
   "outputs": [],
   "source": [
    "X_train, X_test, y_train, y_test = balanced_most_recent, random_most_recent, target_balanced, target_random"
   ]
  },
  {
   "cell_type": "code",
   "execution_count": 22,
   "metadata": {
    "collapsed": false
   },
   "outputs": [
    {
     "data": {
      "text/plain": [
       "((643672, 32), (643672,))"
      ]
     },
     "execution_count": 22,
     "metadata": {},
     "output_type": "execute_result"
    }
   ],
   "source": [
    "X_train.shape, y_train.shape"
   ]
  },
  {
   "cell_type": "code",
   "execution_count": 23,
   "metadata": {
    "collapsed": false
   },
   "outputs": [
    {
     "data": {
      "text/plain": [
       "((600000, 32), (600000,))"
      ]
     },
     "execution_count": 23,
     "metadata": {},
     "output_type": "execute_result"
    }
   ],
   "source": [
    "X_test.shape, y_test.shape"
   ]
  },
  {
   "cell_type": "markdown",
   "metadata": {},
   "source": [
    "GBM"
   ]
  },
  {
   "cell_type": "markdown",
   "metadata": {},
   "source": [
    "Evaluate using accuracy, precision, recall:"
   ]
  },
  {
   "cell_type": "code",
   "execution_count": 24,
   "metadata": {
    "collapsed": false
   },
   "outputs": [],
   "source": [
    "clf = GradientBoostingClassifier(n_estimators=150, random_state=3421)\n",
    "clf.fit(X_train, y_train)\n",
    "train_pred = clf.predict(X_train)\n",
    "test_pred = clf.predict(X_test)"
   ]
  },
  {
   "cell_type": "code",
   "execution_count": 25,
   "metadata": {
    "collapsed": false
   },
   "outputs": [
    {
     "name": "stdout",
     "output_type": "stream",
     "text": [
      "Accuracy Train\tAccuracy Test\n",
      "0.891640462844 \t0.0582733333333\n"
     ]
    }
   ],
   "source": [
    "print \"Accuracy Train\\tAccuracy Test\"\n",
    "print accuracy_score(y_train, train_pred), \"\\t\", accuracy_score(y_test, test_pred)"
   ]
  },
  {
   "cell_type": "markdown",
   "metadata": {},
   "source": [
    "Precision: of all predicted as \"positive\" how many are actually \"positive\"?\n",
    "Recall: of all \"positive\" in the sample how many were predicted as \"positive\"?"
   ]
  },
  {
   "cell_type": "code",
   "execution_count": 28,
   "metadata": {
    "collapsed": false
   },
   "outputs": [
    {
     "data": {
      "text/plain": [
       "(array([ 0.9552643 ,  0.88336058,  0.8509186 ]),\n",
       " array([ 0.999985  ,  0.71142992,  0.92215638]),\n",
       " array([ 0.97711322,  0.78812753,  0.88510641]),\n",
       " array([200000, 167079, 276593]))"
      ]
     },
     "execution_count": 28,
     "metadata": {},
     "output_type": "execute_result"
    }
   ],
   "source": [
    "precision_recall_fscore_support(y_train, train_pred) # no action, click, book"
   ]
  },
  {
   "cell_type": "code",
   "execution_count": 29,
   "metadata": {
    "collapsed": false
   },
   "outputs": [
    {
     "data": {
      "text/plain": [
       "(array([ 0.95513367,  0.04142059,  0.03734515]),\n",
       " array([ 0.02150932,  0.70765775,  0.92129519]),\n",
       " array([ 0.0420712 ,  0.07826045,  0.07178064]),\n",
       " array([573054,  10238,  16708]))"
      ]
     },
     "execution_count": 29,
     "metadata": {},
     "output_type": "execute_result"
    }
   ],
   "source": [
    "precision_recall_fscore_support(y_test, test_pred) # no action, click, book"
   ]
  },
  {
   "cell_type": "markdown",
   "metadata": {},
   "source": [
    "Logistic Regression"
   ]
  },
  {
   "cell_type": "code",
   "execution_count": 30,
   "metadata": {
    "collapsed": false
   },
   "outputs": [],
   "source": [
    "clf1 = LogisticRegression(solver='lbfgs', class_weight='balanced', random_state=3421)\n",
    "clf1.fit(X_train, y_train)\n",
    "train_pred1 = clf1.predict(X_train)\n",
    "test_pred1 = clf1.predict(X_test)"
   ]
  },
  {
   "cell_type": "code",
   "execution_count": 31,
   "metadata": {
    "collapsed": false
   },
   "outputs": [
    {
     "name": "stdout",
     "output_type": "stream",
     "text": [
      "Accuracy Train\tAccuracy Test\n",
      "0.726665133795 \t0.0599183333333\n"
     ]
    }
   ],
   "source": [
    "print \"Accuracy Train\\tAccuracy Test\"\n",
    "print accuracy_score(y_train, train_pred1), \"\\t\", accuracy_score(y_test, test_pred1)"
   ]
  },
  {
   "cell_type": "code",
   "execution_count": 32,
   "metadata": {
    "collapsed": false
   },
   "outputs": [
    {
     "data": {
      "text/plain": [
       "(array([ 0.93574256,  0.49793906,  0.66369456]),\n",
       " array([ 1.        ,  0.31668851,  0.77667186]),\n",
       " array([ 0.96680476,  0.38715012,  0.71575244]),\n",
       " array([200000, 167079, 276593]))"
      ]
     },
     "execution_count": 32,
     "metadata": {},
     "output_type": "execute_result"
    }
   ],
   "source": [
    "precision_recall_fscore_support(y_train, train_pred1) # no action, click, book"
   ]
  },
  {
   "cell_type": "code",
   "execution_count": 33,
   "metadata": {
    "collapsed": false
   },
   "outputs": [
    {
     "data": {
      "text/plain": [
       "(array([ 0.95942408,  0.02158592,  0.03007259]),\n",
       " array([ 0.03453601,  0.31383083,  0.77489825]),\n",
       " array([ 0.06667206,  0.0403935 ,  0.05789823]),\n",
       " array([573054,  10238,  16708]))"
      ]
     },
     "execution_count": 33,
     "metadata": {},
     "output_type": "execute_result"
    }
   ],
   "source": [
    "precision_recall_fscore_support(y_test, test_pred1) # no action, click, book"
   ]
  },
  {
   "cell_type": "markdown",
   "metadata": {},
   "source": [
    "SGD Classifier"
   ]
  },
  {
   "cell_type": "code",
   "execution_count": 34,
   "metadata": {
    "collapsed": true
   },
   "outputs": [],
   "source": [
    "clf2 = SGDClassifier(class_weight='balanced', random_state=3421)\n",
    "clf2.fit(X_train, y_train)\n",
    "train_pred2 = clf2.predict(X_train)\n",
    "test_pred2 = clf2.predict(X_test)"
   ]
  },
  {
   "cell_type": "code",
   "execution_count": 35,
   "metadata": {
    "collapsed": false
   },
   "outputs": [
    {
     "name": "stdout",
     "output_type": "stream",
     "text": [
      "Accuracy Train\tAccuracy Test\n",
      "0.692969400564 \t0.0508183333333\n"
     ]
    }
   ],
   "source": [
    "print \"Accuracy Train\\tAccuracy Test\"\n",
    "print accuracy_score(y_train, train_pred2), \"\\t\", accuracy_score(y_test, test_pred2)"
   ]
  },
  {
   "cell_type": "code",
   "execution_count": 36,
   "metadata": {
    "collapsed": false
   },
   "outputs": [
    {
     "data": {
      "text/plain": [
       "(array([ 0.94450134,  0.38236127,  0.62038734]),\n",
       " array([ 0.9869    ,  0.20203616,  0.7769864 ]),\n",
       " array([ 0.96523529,  0.26437763,  0.6899121 ]),\n",
       " array([200000, 167079, 276593]))"
      ]
     },
     "execution_count": 36,
     "metadata": {},
     "output_type": "execute_result"
    }
   ],
   "source": [
    "precision_recall_fscore_support(y_train, train_pred2) # no action, click, book"
   ]
  },
  {
   "cell_type": "code",
   "execution_count": 37,
   "metadata": {
    "collapsed": false
   },
   "outputs": [
    {
     "data": {
      "text/plain": [
       "(array([ 0.95528531,  0.01728961,  0.02820016]),\n",
       " array([ 0.02673047,  0.20042977,  0.78531243]),\n",
       " array([ 0.05200572,  0.0318332 ,  0.05444523]),\n",
       " array([573054,  10238,  16708]))"
      ]
     },
     "execution_count": 37,
     "metadata": {},
     "output_type": "execute_result"
    }
   ],
   "source": [
    "precision_recall_fscore_support(y_test, test_pred2) # no action, click, book"
   ]
  },
  {
   "cell_type": "markdown",
   "metadata": {},
   "source": [
    "Ridge Classifier"
   ]
  },
  {
   "cell_type": "code",
   "execution_count": 38,
   "metadata": {
    "collapsed": true
   },
   "outputs": [],
   "source": [
    "clf3 = RidgeClassifier(class_weight='balanced', random_state=3421)\n",
    "clf3.fit(X_train, y_train)\n",
    "train_pred3 = clf3.predict(X_train)\n",
    "test_pred3 = clf3.predict(X_test)"
   ]
  },
  {
   "cell_type": "code",
   "execution_count": 39,
   "metadata": {
    "collapsed": false
   },
   "outputs": [
    {
     "name": "stdout",
     "output_type": "stream",
     "text": [
      "Accuracy Train\tAccuracy Test\n",
      "0.806865919288 \t0.272071666667\n"
     ]
    }
   ],
   "source": [
    "print \"Accuracy Train\\tAccuracy Test\"\n",
    "print accuracy_score(y_train, train_pred3), \"\\t\", accuracy_score(y_test, test_pred3)"
   ]
  },
  {
   "cell_type": "code",
   "execution_count": 40,
   "metadata": {
    "collapsed": false
   },
   "outputs": [
    {
     "data": {
      "text/plain": [
       "(array([ 0.74708886,  0.8276321 ,  0.85642338]),\n",
       " array([ 0.95531   ,  0.67741607,  0.77772395]),\n",
       " array([ 0.83846562,  0.7450277 ,  0.81517861]),\n",
       " array([200000, 167079, 276593]))"
      ]
     },
     "execution_count": 40,
     "metadata": {},
     "output_type": "execute_result"
    }
   ],
   "source": [
    "precision_recall_fscore_support(y_train, train_pred3) # no action, click, book"
   ]
  },
  {
   "cell_type": "code",
   "execution_count": 41,
   "metadata": {
    "collapsed": false
   },
   "outputs": [
    {
     "data": {
      "text/plain": [
       "(array([ 0.97396205,  0.04357478,  0.04440602]),\n",
       " array([ 0.24999913,  0.67483884,  0.78231985]),\n",
       " array([ 0.39787155,  0.08186358,  0.08404166]),\n",
       " array([573054,  10238,  16708]))"
      ]
     },
     "execution_count": 41,
     "metadata": {},
     "output_type": "execute_result"
    }
   ],
   "source": [
    "precision_recall_fscore_support(y_test, test_pred3) # no action, click, book"
   ]
  },
  {
   "cell_type": "markdown",
   "metadata": {
    "collapsed": true
   },
   "source": [
    "SVM"
   ]
  },
  {
   "cell_type": "code",
   "execution_count": 42,
   "metadata": {
    "collapsed": true
   },
   "outputs": [],
   "source": [
    "clf4 = LinearSVC(random_state=3421)\n",
    "clf4.fit(X_train, y_train)\n",
    "train_pred4 = clf4.predict(X_train)\n",
    "test_pred4 = clf4.predict(X_test)"
   ]
  },
  {
   "cell_type": "code",
   "execution_count": 43,
   "metadata": {
    "collapsed": false
   },
   "outputs": [
    {
     "name": "stdout",
     "output_type": "stream",
     "text": [
      "Accuracy Train\tAccuracy Test\n",
      "0.712718589592 \t0.0964083333333\n"
     ]
    }
   ],
   "source": [
    "print \"Accuracy Train\\tAccuracy Test\"\n",
    "print accuracy_score(y_train, train_pred4), \"\\t\", accuracy_score(y_test, test_pred4)"
   ]
  },
  {
   "cell_type": "code",
   "execution_count": 44,
   "metadata": {
    "collapsed": false
   },
   "outputs": [
    {
     "data": {
      "text/plain": [
       "(array([ 0.87255467,  0.875     ,  0.62431354]),\n",
       " array([  1.00000000e+00,   8.37926969e-05,   9.35464744e-01]),\n",
       " array([  9.31940393e-01,   1.67569347e-04,   7.48854258e-01]),\n",
       " array([200000, 167079, 276593]))"
      ]
     },
     "execution_count": 44,
     "metadata": {},
     "output_type": "execute_result"
    }
   ],
   "source": [
    "precision_recall_fscore_support(y_train, train_pred4) # no action, click, book"
   ]
  },
  {
   "cell_type": "code",
   "execution_count": 45,
   "metadata": {
    "collapsed": false
   },
   "outputs": [
    {
     "data": {
      "text/plain": [
       "(array([ 0.95910257,  0.05128205,  0.02807398]),\n",
       " array([  7.37033508e-02,   1.95350654e-04,   9.34103424e-01]),\n",
       " array([ 0.13688743,  0.00038922,  0.0545097 ]),\n",
       " array([573054,  10238,  16708]))"
      ]
     },
     "execution_count": 45,
     "metadata": {},
     "output_type": "execute_result"
    }
   ],
   "source": [
    "precision_recall_fscore_support(y_test, test_pred4) # no action, click, book"
   ]
  },
  {
   "cell_type": "code",
   "execution_count": null,
   "metadata": {
    "collapsed": true
   },
   "outputs": [],
   "source": []
  }
 ],
 "metadata": {
  "anaconda-cloud": {},
  "kernelspec": {
   "display_name": "Python [Root]",
   "language": "python",
   "name": "Python [Root]"
  },
  "language_info": {
   "codemirror_mode": {
    "name": "ipython",
    "version": 2
   },
   "file_extension": ".py",
   "mimetype": "text/x-python",
   "name": "python",
   "nbconvert_exporter": "python",
   "pygments_lexer": "ipython2",
   "version": "2.7.12"
  }
 },
 "nbformat": 4,
 "nbformat_minor": 0
}
