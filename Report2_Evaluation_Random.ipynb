{
 "cells": [
  {
   "cell_type": "markdown",
   "metadata": {},
   "source": [
    "# Report 2: Evaluation Using Gradient Boosting Machines \n",
    "# For random sample"
   ]
  },
  {
   "cell_type": "markdown",
   "metadata": {},
   "source": [
    "Goal:\n",
    "to predict 3 classes being\n",
    "0 - no action\n",
    "1 - click\n",
    "2 - booking"
   ]
  },
  {
   "cell_type": "markdown",
   "metadata": {},
   "source": [
    "Import all the necessary libraries:"
   ]
  },
  {
   "cell_type": "code",
   "execution_count": 1,
   "metadata": {
    "collapsed": false
   },
   "outputs": [],
   "source": [
    "import pandas as pd\n",
    "from sklearn.ensemble import GradientBoostingClassifier\n",
    "from sklearn import cross_validation\n",
    "import numpy as np\n",
    "from sklearn.metrics import accuracy_score, precision_score, recall_score\n",
    "from sklearn import preprocessing"
   ]
  },
  {
   "cell_type": "markdown",
   "metadata": {},
   "source": [
    "Load 3 samples based on earlier data processing:"
   ]
  },
  {
   "cell_type": "code",
   "execution_count": 2,
   "metadata": {
    "collapsed": true
   },
   "outputs": [],
   "source": [
    "random = pd.read_csv('pig_export/processed_r.csv')"
   ]
  },
  {
   "cell_type": "markdown",
   "metadata": {},
   "source": [
    "Check the data:"
   ]
  },
  {
   "cell_type": "code",
   "execution_count": 3,
   "metadata": {
    "collapsed": false
   },
   "outputs": [
    {
     "data": {
      "text/plain": [
       "(600000, 33)"
      ]
     },
     "execution_count": 3,
     "metadata": {},
     "output_type": "execute_result"
    }
   ],
   "source": [
    "random.shape"
   ]
  },
  {
   "cell_type": "code",
   "execution_count": 4,
   "metadata": {
    "collapsed": false
   },
   "outputs": [
    {
     "data": {
      "text/html": [
       "<div>\n",
       "<table border=\"1\" class=\"dataframe\">\n",
       "  <thead>\n",
       "    <tr style=\"text-align: right;\">\n",
       "      <th></th>\n",
       "      <th>srch_id</th>\n",
       "      <th>site_id</th>\n",
       "      <th>visitor_location_country_id</th>\n",
       "      <th>prop_country_id</th>\n",
       "      <th>prop_id</th>\n",
       "      <th>prop_starrating</th>\n",
       "      <th>prop_review_score</th>\n",
       "      <th>prop_brand_bool</th>\n",
       "      <th>prop_location_score1</th>\n",
       "      <th>prop_location_score2</th>\n",
       "      <th>...</th>\n",
       "      <th>comp2_rate</th>\n",
       "      <th>comp2_inv</th>\n",
       "      <th>comp5_rate</th>\n",
       "      <th>comp5_inv</th>\n",
       "      <th>comp8_rate</th>\n",
       "      <th>comp8_inv</th>\n",
       "      <th>class</th>\n",
       "      <th>year</th>\n",
       "      <th>month</th>\n",
       "      <th>day</th>\n",
       "    </tr>\n",
       "  </thead>\n",
       "  <tbody>\n",
       "    <tr>\n",
       "      <th>0</th>\n",
       "      <td>623365</td>\n",
       "      <td>5</td>\n",
       "      <td>219</td>\n",
       "      <td>219</td>\n",
       "      <td>11440</td>\n",
       "      <td>2.0</td>\n",
       "      <td>2.5</td>\n",
       "      <td>0</td>\n",
       "      <td>1.10</td>\n",
       "      <td>NaN</td>\n",
       "      <td>...</td>\n",
       "      <td>0.0</td>\n",
       "      <td>0.0</td>\n",
       "      <td>0.0</td>\n",
       "      <td>0.0</td>\n",
       "      <td>0.0</td>\n",
       "      <td>0.0</td>\n",
       "      <td>0</td>\n",
       "      <td>2013</td>\n",
       "      <td>1</td>\n",
       "      <td>2</td>\n",
       "    </tr>\n",
       "    <tr>\n",
       "      <th>1</th>\n",
       "      <td>177303</td>\n",
       "      <td>15</td>\n",
       "      <td>55</td>\n",
       "      <td>215</td>\n",
       "      <td>79374</td>\n",
       "      <td>4.0</td>\n",
       "      <td>4.0</td>\n",
       "      <td>0</td>\n",
       "      <td>3.47</td>\n",
       "      <td>0.0113</td>\n",
       "      <td>...</td>\n",
       "      <td>NaN</td>\n",
       "      <td>NaN</td>\n",
       "      <td>0.0</td>\n",
       "      <td>0.0</td>\n",
       "      <td>NaN</td>\n",
       "      <td>NaN</td>\n",
       "      <td>0</td>\n",
       "      <td>2013</td>\n",
       "      <td>5</td>\n",
       "      <td>25</td>\n",
       "    </tr>\n",
       "    <tr>\n",
       "      <th>2</th>\n",
       "      <td>186217</td>\n",
       "      <td>7</td>\n",
       "      <td>100</td>\n",
       "      <td>100</td>\n",
       "      <td>71023</td>\n",
       "      <td>3.0</td>\n",
       "      <td>4.0</td>\n",
       "      <td>0</td>\n",
       "      <td>3.43</td>\n",
       "      <td>0.2975</td>\n",
       "      <td>...</td>\n",
       "      <td>0.0</td>\n",
       "      <td>0.0</td>\n",
       "      <td>NaN</td>\n",
       "      <td>NaN</td>\n",
       "      <td>0.0</td>\n",
       "      <td>0.0</td>\n",
       "      <td>2</td>\n",
       "      <td>2013</td>\n",
       "      <td>6</td>\n",
       "      <td>28</td>\n",
       "    </tr>\n",
       "    <tr>\n",
       "      <th>3</th>\n",
       "      <td>377107</td>\n",
       "      <td>5</td>\n",
       "      <td>219</td>\n",
       "      <td>219</td>\n",
       "      <td>50605</td>\n",
       "      <td>3.0</td>\n",
       "      <td>4.0</td>\n",
       "      <td>1</td>\n",
       "      <td>1.79</td>\n",
       "      <td>0.1222</td>\n",
       "      <td>...</td>\n",
       "      <td>0.0</td>\n",
       "      <td>0.0</td>\n",
       "      <td>NaN</td>\n",
       "      <td>NaN</td>\n",
       "      <td>0.0</td>\n",
       "      <td>0.0</td>\n",
       "      <td>0</td>\n",
       "      <td>2012</td>\n",
       "      <td>11</td>\n",
       "      <td>29</td>\n",
       "    </tr>\n",
       "    <tr>\n",
       "      <th>4</th>\n",
       "      <td>324498</td>\n",
       "      <td>5</td>\n",
       "      <td>219</td>\n",
       "      <td>219</td>\n",
       "      <td>75716</td>\n",
       "      <td>4.0</td>\n",
       "      <td>4.0</td>\n",
       "      <td>1</td>\n",
       "      <td>1.79</td>\n",
       "      <td>0.0211</td>\n",
       "      <td>...</td>\n",
       "      <td>0.0</td>\n",
       "      <td>0.0</td>\n",
       "      <td>0.0</td>\n",
       "      <td>0.0</td>\n",
       "      <td>0.0</td>\n",
       "      <td>0.0</td>\n",
       "      <td>0</td>\n",
       "      <td>2013</td>\n",
       "      <td>3</td>\n",
       "      <td>11</td>\n",
       "    </tr>\n",
       "  </tbody>\n",
       "</table>\n",
       "<p>5 rows × 33 columns</p>\n",
       "</div>"
      ],
      "text/plain": [
       "   srch_id  site_id  visitor_location_country_id  prop_country_id  prop_id  \\\n",
       "0   623365        5                          219              219    11440   \n",
       "1   177303       15                           55              215    79374   \n",
       "2   186217        7                          100              100    71023   \n",
       "3   377107        5                          219              219    50605   \n",
       "4   324498        5                          219              219    75716   \n",
       "\n",
       "   prop_starrating  prop_review_score  prop_brand_bool  prop_location_score1  \\\n",
       "0              2.0                2.5                0                  1.10   \n",
       "1              4.0                4.0                0                  3.47   \n",
       "2              3.0                4.0                0                  3.43   \n",
       "3              3.0                4.0                1                  1.79   \n",
       "4              4.0                4.0                1                  1.79   \n",
       "\n",
       "   prop_location_score2 ...   comp2_rate  comp2_inv  comp5_rate  comp5_inv  \\\n",
       "0                   NaN ...          0.0        0.0         0.0        0.0   \n",
       "1                0.0113 ...          NaN        NaN         0.0        0.0   \n",
       "2                0.2975 ...          0.0        0.0         NaN        NaN   \n",
       "3                0.1222 ...          0.0        0.0         NaN        NaN   \n",
       "4                0.0211 ...          0.0        0.0         0.0        0.0   \n",
       "\n",
       "   comp8_rate  comp8_inv  class  year  month  day  \n",
       "0         0.0        0.0      0  2013      1    2  \n",
       "1         NaN        NaN      0  2013      5   25  \n",
       "2         0.0        0.0      2  2013      6   28  \n",
       "3         0.0        0.0      0  2012     11   29  \n",
       "4         0.0        0.0      0  2013      3   11  \n",
       "\n",
       "[5 rows x 33 columns]"
      ]
     },
     "execution_count": 4,
     "metadata": {},
     "output_type": "execute_result"
    }
   ],
   "source": [
    "random.head()"
   ]
  },
  {
   "cell_type": "markdown",
   "metadata": {},
   "source": [
    "Target and features:"
   ]
  },
  {
   "cell_type": "code",
   "execution_count": 5,
   "metadata": {
    "collapsed": true
   },
   "outputs": [],
   "source": [
    "target_random = np.ravel(random['class'].values)"
   ]
  },
  {
   "cell_type": "code",
   "execution_count": 6,
   "metadata": {
    "collapsed": true
   },
   "outputs": [],
   "source": [
    "features_random = random.drop(['class'], axis=1)"
   ]
  },
  {
   "cell_type": "code",
   "execution_count": 7,
   "metadata": {
    "collapsed": false
   },
   "outputs": [
    {
     "data": {
      "text/plain": [
       "srch_id                         0.000000\n",
       "site_id                         0.000000\n",
       "visitor_location_country_id     0.000000\n",
       "prop_country_id                 0.000000\n",
       "prop_id                         0.000000\n",
       "prop_starrating                 0.000000\n",
       "prop_review_score               0.145667\n",
       "prop_brand_bool                 0.000000\n",
       "prop_location_score1            0.000000\n",
       "prop_location_score2           21.962833\n",
       "prop_log_historical_price       0.000000\n",
       "position                        0.000000\n",
       "price_usd                       0.000000\n",
       "promotion_flag                  0.000000\n",
       "srch_destination_id             0.000000\n",
       "srch_length_of_stay             0.000000\n",
       "srch_booking_window             0.000000\n",
       "srch_adults_count               0.000000\n",
       "srch_children_count             0.000000\n",
       "srch_room_count                 0.000000\n",
       "srch_saturday_night_bool        0.000000\n",
       "orig_destination_distance      32.357167\n",
       "random_bool                     0.000000\n",
       "comp2_rate                     59.113167\n",
       "comp2_inv                      56.996833\n",
       "comp5_rate                     55.202333\n",
       "comp5_inv                      52.379333\n",
       "comp8_rate                     61.472333\n",
       "comp8_inv                      60.034167\n",
       "year                            0.000000\n",
       "month                           0.000000\n",
       "day                             0.000000\n",
       "dtype: float64"
      ]
     },
     "execution_count": 7,
     "metadata": {},
     "output_type": "execute_result"
    }
   ],
   "source": [
    "(1.0 - features_random.count() / len(features_random)) * 100.0"
   ]
  },
  {
   "cell_type": "markdown",
   "metadata": {},
   "source": [
    "Substitute missing values by mean/median/mode:"
   ]
  },
  {
   "cell_type": "code",
   "execution_count": 8,
   "metadata": {
    "collapsed": false
   },
   "outputs": [],
   "source": [
    "# continuous\n",
    "random_df = features_random[['prop_review_score', 'prop_location_score1', 'prop_location_score2', \n",
    "                                 'prop_log_historical_price', 'price_usd', 'orig_destination_distance']]\n",
    "imp = preprocessing.Imputer(strategy='mean', axis=0) # strategy='median'\n",
    "imp.fit(random_df)\n",
    "random_df1 = pd.DataFrame(imp.transform(random_df))\n",
    "random_df1.columns = random_df.columns"
   ]
  },
  {
   "cell_type": "code",
   "execution_count": 9,
   "metadata": {
    "collapsed": false
   },
   "outputs": [],
   "source": [
    "# categorical\n",
    "random_df2 = features_random[['comp2_rate', 'comp2_inv', 'comp5_rate', \n",
    "                                 'comp5_inv', 'comp8_rate', 'comp8_inv']]\n",
    "imp = preprocessing.Imputer(strategy='most_frequent', axis=0)\n",
    "imp.fit(random_df2)\n",
    "random_df3 = pd.DataFrame(imp.transform(random_df2))\n",
    "random_df3.columns = random_df2.columns"
   ]
  },
  {
   "cell_type": "code",
   "execution_count": 10,
   "metadata": {
    "collapsed": false
   },
   "outputs": [],
   "source": [
    "random_recent_rest = features_random[['srch_id','site_id','visitor_location_country_id','prop_country_id',\n",
    "                                     'prop_id','prop_starrating','prop_brand_bool','position','promotion_flag',\n",
    "                                     'srch_destination_id','srch_length_of_stay','srch_booking_window',\n",
    "                                     'srch_adults_count','srch_children_count','srch_room_count',\n",
    "                                     'srch_saturday_night_bool','random_bool','year','month','day']]\n",
    "random_recent = pd.DataFrame(np.concatenate((random_recent_rest, random_df1, random_df3), axis=1))\n",
    "random_recent.columns = ['srch_id','site_id','visitor_location_country_id','prop_country_id',\n",
    "                           'prop_id','prop_starrating','prop_brand_bool','position','promotion_flag',\n",
    "                           'srch_destination_id','srch_length_of_stay','srch_booking_window',\n",
    "                           'srch_adults_count','srch_children_count','srch_room_count',\n",
    "                           'srch_saturday_night_bool','random_bool','year','month','day',\n",
    "                            'prop_review_score', 'prop_location_score1', 'prop_location_score2', \n",
    "                            'prop_log_historical_price', 'price_usd', 'orig_destination_distance', \n",
    "                             'comp2_rate', 'comp2_inv', 'comp5_rate', \n",
    "                             'comp5_inv', 'comp8_rate', 'comp8_inv']"
   ]
  },
  {
   "cell_type": "code",
   "execution_count": 11,
   "metadata": {
    "collapsed": false
   },
   "outputs": [
    {
     "data": {
      "text/plain": [
       "(600000, 32)"
      ]
     },
     "execution_count": 11,
     "metadata": {},
     "output_type": "execute_result"
    }
   ],
   "source": [
    "random_recent.shape\n"
   ]
  },
  {
   "cell_type": "markdown",
   "metadata": {},
   "source": [
    "Normalize/scale:"
   ]
  },
  {
   "cell_type": "code",
   "execution_count": 12,
   "metadata": {
    "collapsed": false
   },
   "outputs": [],
   "source": [
    "# balanced\n",
    "random_df = random_recent[['prop_review_score', 'prop_location_score1', 'prop_location_score2', \n",
    "                                 'prop_log_historical_price', 'price_usd', 'orig_destination_distance']]\n",
    "random_df_rest = random_recent[['srch_id','site_id','visitor_location_country_id','prop_country_id',\n",
    "                                     'prop_id','prop_starrating','prop_brand_bool','position','promotion_flag',\n",
    "                                     'srch_destination_id','srch_length_of_stay','srch_booking_window',\n",
    "                                     'srch_adults_count','srch_children_count','srch_room_count',\n",
    "                                     'srch_saturday_night_bool','random_bool','comp2_rate','comp2_inv',\n",
    "                                     'comp5_rate','comp5_inv','comp8_rate','comp8_inv','year','month','day']]\n",
    "standard_scaler0 = preprocessing.StandardScaler(copy=False)\n",
    "x_standardized0 = standard_scaler0.fit_transform(random_df)\n",
    "random_most_recent = pd.DataFrame(np.concatenate((random_df_rest, x_standardized0), axis=1))\n",
    "random_most_recent.columns = ['srch_id','site_id','visitor_location_country_id','prop_country_id',\n",
    "                                     'prop_id','prop_starrating','prop_brand_bool','position','promotion_flag',\n",
    "                                     'srch_destination_id','srch_length_of_stay','srch_booking_window',\n",
    "                                     'srch_adults_count','srch_children_count','srch_room_count',\n",
    "                                     'srch_saturday_night_bool','random_bool','comp2_rate','comp2_inv',\n",
    "                                     'comp5_rate','comp5_inv','comp8_rate','comp8_inv','year','month','day',\n",
    "                               'prop_review_score', 'prop_location_score1', 'prop_location_score2', \n",
    "                                 'prop_log_historical_price', 'price_usd', 'orig_destination_distance']\n",
    "\n",
    "# random: MinMaxScaler()\n",
    "# first: StandardScaler(feature_range=(-1, 1))"
   ]
  },
  {
   "cell_type": "code",
   "execution_count": 13,
   "metadata": {
    "collapsed": false
   },
   "outputs": [
    {
     "data": {
      "text/plain": [
       "(600000, 32)"
      ]
     },
     "execution_count": 13,
     "metadata": {},
     "output_type": "execute_result"
    }
   ],
   "source": [
    "random_most_recent.shape"
   ]
  },
  {
   "cell_type": "code",
   "execution_count": 14,
   "metadata": {
    "collapsed": false
   },
   "outputs": [
    {
     "data": {
      "text/html": [
       "<div>\n",
       "<table border=\"1\" class=\"dataframe\">\n",
       "  <thead>\n",
       "    <tr style=\"text-align: right;\">\n",
       "      <th></th>\n",
       "      <th>srch_id</th>\n",
       "      <th>site_id</th>\n",
       "      <th>visitor_location_country_id</th>\n",
       "      <th>prop_country_id</th>\n",
       "      <th>prop_id</th>\n",
       "      <th>prop_starrating</th>\n",
       "      <th>prop_brand_bool</th>\n",
       "      <th>position</th>\n",
       "      <th>promotion_flag</th>\n",
       "      <th>srch_destination_id</th>\n",
       "      <th>...</th>\n",
       "      <th>comp8_inv</th>\n",
       "      <th>year</th>\n",
       "      <th>month</th>\n",
       "      <th>day</th>\n",
       "      <th>prop_review_score</th>\n",
       "      <th>prop_location_score1</th>\n",
       "      <th>prop_location_score2</th>\n",
       "      <th>prop_log_historical_price</th>\n",
       "      <th>price_usd</th>\n",
       "      <th>orig_destination_distance</th>\n",
       "    </tr>\n",
       "  </thead>\n",
       "  <tbody>\n",
       "    <tr>\n",
       "      <th>0</th>\n",
       "      <td>623365.0</td>\n",
       "      <td>5.0</td>\n",
       "      <td>219.0</td>\n",
       "      <td>219.0</td>\n",
       "      <td>11440.0</td>\n",
       "      <td>2.0</td>\n",
       "      <td>0.0</td>\n",
       "      <td>27.0</td>\n",
       "      <td>0.0</td>\n",
       "      <td>11621.0</td>\n",
       "      <td>...</td>\n",
       "      <td>0.0</td>\n",
       "      <td>2013.0</td>\n",
       "      <td>1.0</td>\n",
       "      <td>2.0</td>\n",
       "      <td>-1.218106</td>\n",
       "      <td>-1.159607</td>\n",
       "      <td>-5.900217e-16</td>\n",
       "      <td>-0.071217</td>\n",
       "      <td>-0.013644</td>\n",
       "      <td>0.000000</td>\n",
       "    </tr>\n",
       "    <tr>\n",
       "      <th>1</th>\n",
       "      <td>177303.0</td>\n",
       "      <td>15.0</td>\n",
       "      <td>55.0</td>\n",
       "      <td>215.0</td>\n",
       "      <td>79374.0</td>\n",
       "      <td>4.0</td>\n",
       "      <td>0.0</td>\n",
       "      <td>7.0</td>\n",
       "      <td>1.0</td>\n",
       "      <td>25564.0</td>\n",
       "      <td>...</td>\n",
       "      <td>0.0</td>\n",
       "      <td>2013.0</td>\n",
       "      <td>5.0</td>\n",
       "      <td>25.0</td>\n",
       "      <td>0.211336</td>\n",
       "      <td>0.387823</td>\n",
       "      <td>-8.454672e-01</td>\n",
       "      <td>0.458058</td>\n",
       "      <td>-0.011721</td>\n",
       "      <td>0.000000</td>\n",
       "    </tr>\n",
       "    <tr>\n",
       "      <th>2</th>\n",
       "      <td>186217.0</td>\n",
       "      <td>7.0</td>\n",
       "      <td>100.0</td>\n",
       "      <td>100.0</td>\n",
       "      <td>71023.0</td>\n",
       "      <td>3.0</td>\n",
       "      <td>0.0</td>\n",
       "      <td>7.0</td>\n",
       "      <td>0.0</td>\n",
       "      <td>1996.0</td>\n",
       "      <td>...</td>\n",
       "      <td>0.0</td>\n",
       "      <td>2013.0</td>\n",
       "      <td>6.0</td>\n",
       "      <td>28.0</td>\n",
       "      <td>0.211336</td>\n",
       "      <td>0.361706</td>\n",
       "      <td>1.182524e+00</td>\n",
       "      <td>-2.357468</td>\n",
       "      <td>-0.007850</td>\n",
       "      <td>-0.718722</td>\n",
       "    </tr>\n",
       "    <tr>\n",
       "      <th>3</th>\n",
       "      <td>377107.0</td>\n",
       "      <td>5.0</td>\n",
       "      <td>219.0</td>\n",
       "      <td>219.0</td>\n",
       "      <td>50605.0</td>\n",
       "      <td>3.0</td>\n",
       "      <td>1.0</td>\n",
       "      <td>14.0</td>\n",
       "      <td>0.0</td>\n",
       "      <td>15712.0</td>\n",
       "      <td>...</td>\n",
       "      <td>0.0</td>\n",
       "      <td>2012.0</td>\n",
       "      <td>11.0</td>\n",
       "      <td>29.0</td>\n",
       "      <td>0.211336</td>\n",
       "      <td>-0.709090</td>\n",
       "      <td>-5.963813e-02</td>\n",
       "      <td>0.441689</td>\n",
       "      <td>-0.008983</td>\n",
       "      <td>-0.707327</td>\n",
       "    </tr>\n",
       "    <tr>\n",
       "      <th>4</th>\n",
       "      <td>324498.0</td>\n",
       "      <td>5.0</td>\n",
       "      <td>219.0</td>\n",
       "      <td>219.0</td>\n",
       "      <td>75716.0</td>\n",
       "      <td>4.0</td>\n",
       "      <td>1.0</td>\n",
       "      <td>11.0</td>\n",
       "      <td>0.0</td>\n",
       "      <td>2502.0</td>\n",
       "      <td>...</td>\n",
       "      <td>0.0</td>\n",
       "      <td>2013.0</td>\n",
       "      <td>3.0</td>\n",
       "      <td>11.0</td>\n",
       "      <td>0.211336</td>\n",
       "      <td>-0.709090</td>\n",
       "      <td>-7.760251e-01</td>\n",
       "      <td>0.338016</td>\n",
       "      <td>-0.009874</td>\n",
       "      <td>-0.549108</td>\n",
       "    </tr>\n",
       "  </tbody>\n",
       "</table>\n",
       "<p>5 rows × 32 columns</p>\n",
       "</div>"
      ],
      "text/plain": [
       "    srch_id  site_id  visitor_location_country_id  prop_country_id  prop_id  \\\n",
       "0  623365.0      5.0                        219.0            219.0  11440.0   \n",
       "1  177303.0     15.0                         55.0            215.0  79374.0   \n",
       "2  186217.0      7.0                        100.0            100.0  71023.0   \n",
       "3  377107.0      5.0                        219.0            219.0  50605.0   \n",
       "4  324498.0      5.0                        219.0            219.0  75716.0   \n",
       "\n",
       "   prop_starrating  prop_brand_bool  position  promotion_flag  \\\n",
       "0              2.0              0.0      27.0             0.0   \n",
       "1              4.0              0.0       7.0             1.0   \n",
       "2              3.0              0.0       7.0             0.0   \n",
       "3              3.0              1.0      14.0             0.0   \n",
       "4              4.0              1.0      11.0             0.0   \n",
       "\n",
       "   srch_destination_id            ...              comp8_inv    year  month  \\\n",
       "0              11621.0            ...                    0.0  2013.0    1.0   \n",
       "1              25564.0            ...                    0.0  2013.0    5.0   \n",
       "2               1996.0            ...                    0.0  2013.0    6.0   \n",
       "3              15712.0            ...                    0.0  2012.0   11.0   \n",
       "4               2502.0            ...                    0.0  2013.0    3.0   \n",
       "\n",
       "    day  prop_review_score  prop_location_score1  prop_location_score2  \\\n",
       "0   2.0          -1.218106             -1.159607         -5.900217e-16   \n",
       "1  25.0           0.211336              0.387823         -8.454672e-01   \n",
       "2  28.0           0.211336              0.361706          1.182524e+00   \n",
       "3  29.0           0.211336             -0.709090         -5.963813e-02   \n",
       "4  11.0           0.211336             -0.709090         -7.760251e-01   \n",
       "\n",
       "   prop_log_historical_price  price_usd  orig_destination_distance  \n",
       "0                  -0.071217  -0.013644                   0.000000  \n",
       "1                   0.458058  -0.011721                   0.000000  \n",
       "2                  -2.357468  -0.007850                  -0.718722  \n",
       "3                   0.441689  -0.008983                  -0.707327  \n",
       "4                   0.338016  -0.009874                  -0.549108  \n",
       "\n",
       "[5 rows x 32 columns]"
      ]
     },
     "execution_count": 14,
     "metadata": {},
     "output_type": "execute_result"
    }
   ],
   "source": [
    "random_most_recent.head()"
   ]
  },
  {
   "cell_type": "markdown",
   "metadata": {},
   "source": [
    "Split data into train and test with test being 30% of the train:"
   ]
  },
  {
   "cell_type": "code",
   "execution_count": 15,
   "metadata": {
    "collapsed": true
   },
   "outputs": [],
   "source": [
    "X_train, X_test, y_train, y_test = cross_validation.train_test_split(random_most_recent, \n",
    "                                    target_random, test_size = 0.3, random_state = 3456)"
   ]
  },
  {
   "cell_type": "code",
   "execution_count": 16,
   "metadata": {
    "collapsed": false
   },
   "outputs": [
    {
     "data": {
      "text/plain": [
       "((420000, 32), (420000,))"
      ]
     },
     "execution_count": 16,
     "metadata": {},
     "output_type": "execute_result"
    }
   ],
   "source": [
    "X_train.shape, y_train.shape"
   ]
  },
  {
   "cell_type": "code",
   "execution_count": 17,
   "metadata": {
    "collapsed": false
   },
   "outputs": [
    {
     "data": {
      "text/plain": [
       "((180000, 32), (180000,))"
      ]
     },
     "execution_count": 17,
     "metadata": {},
     "output_type": "execute_result"
    }
   ],
   "source": [
    "X_test.shape, y_test.shape"
   ]
  },
  {
   "cell_type": "markdown",
   "metadata": {},
   "source": [
    "Run GBM:"
   ]
  },
  {
   "cell_type": "markdown",
   "metadata": {},
   "source": [
    "Evaluate using accuracy, precision, recall:"
   ]
  },
  {
   "cell_type": "code",
   "execution_count": 39,
   "metadata": {
    "collapsed": false
   },
   "outputs": [],
   "source": [
    "clf = GradientBoostingClassifier(n_estimators=150, random_state=3421)\n",
    "clf.fit(X_train, y_train)\n",
    "train_pred = clf.predict(X_train)\n",
    "test_pred = clf.predict(X_test)"
   ]
  },
  {
   "cell_type": "code",
   "execution_count": 60,
   "metadata": {
    "collapsed": false
   },
   "outputs": [
    {
     "name": "stdout",
     "output_type": "stream",
     "text": [
      "Accuracy Train\tAccuracy Test\n",
      "0.955016666667 \t0.955466666667\n"
     ]
    }
   ],
   "source": [
    "print \"Accuracy Train\\tAccuracy Test\"\n",
    "print accuracy_score(y_train, train_pred), \"\\t\", accuracy_score(y_test, test_pred)"
   ]
  },
  {
   "cell_type": "markdown",
   "metadata": {},
   "source": [
    "Precision: of all predicted as \"positive\" how many are actually \"positive\"?\n",
    "Recall: of all \"positive\" in the sample how many were predicted as \"positive\"?"
   ]
  },
  {
   "cell_type": "code",
   "execution_count": 61,
   "metadata": {
    "collapsed": false
   },
   "outputs": [
    {
     "data": {
      "text/plain": [
       "(array([ 0.95502616,  1.        ,  0.86538462]),\n",
       " array([ 0.99998255,  0.00206811,  0.00384846]),\n",
       " array([ 0.97698746,  0.00412768,  0.00766284]),\n",
       " array([401054,   7253,  11693]))"
      ]
     },
     "execution_count": 61,
     "metadata": {},
     "output_type": "execute_result"
    }
   ],
   "source": [
    "precision_recall_fscore_support(y_train, train_pred) # no action, click, book"
   ]
  },
  {
   "cell_type": "code",
   "execution_count": 64,
   "metadata": {
    "collapsed": false
   },
   "outputs": [
    {
     "data": {
      "text/plain": [
       "(array([ 0.95557185,  0.22222222,  0.13333333]),\n",
       " array([  9.99883721e-01,   6.70016750e-04,   3.98803589e-04]),\n",
       " array([  9.77225720e-01,   1.33600534e-03,   7.95228628e-04]),\n",
       " array([172000,   2985,   5015]))"
      ]
     },
     "execution_count": 64,
     "metadata": {},
     "output_type": "execute_result"
    }
   ],
   "source": [
    "precision_recall_fscore_support(y_test, test_pred) # no action, click, book"
   ]
  },
  {
   "cell_type": "markdown",
   "metadata": {
    "collapsed": true
   },
   "source": [
    "# Applying Linear Models"
   ]
  },
  {
   "cell_type": "code",
   "execution_count": 27,
   "metadata": {
    "collapsed": false
   },
   "outputs": [
    {
     "data": {
      "text/plain": [
       "(600000, 32)"
      ]
     },
     "execution_count": 27,
     "metadata": {},
     "output_type": "execute_result"
    }
   ],
   "source": [
    "random_most_recent.shape # random"
   ]
  },
  {
   "cell_type": "code",
   "execution_count": 37,
   "metadata": {
    "collapsed": false
   },
   "outputs": [
    {
     "data": {
      "text/plain": [
       "((420000, 32), (420000,))"
      ]
     },
     "execution_count": 37,
     "metadata": {},
     "output_type": "execute_result"
    }
   ],
   "source": [
    "X_train.shape, y_train.shape # 70% is train"
   ]
  },
  {
   "cell_type": "code",
   "execution_count": 38,
   "metadata": {
    "collapsed": false
   },
   "outputs": [
    {
     "data": {
      "text/plain": [
       "((180000, 32), (180000,))"
      ]
     },
     "execution_count": 38,
     "metadata": {},
     "output_type": "execute_result"
    }
   ],
   "source": [
    "X_test.shape, y_test.shape # 30% is test"
   ]
  },
  {
   "cell_type": "code",
   "execution_count": 41,
   "metadata": {
    "collapsed": true
   },
   "outputs": [],
   "source": [
    "from sklearn.metrics import precision_recall_fscore_support"
   ]
  },
  {
   "cell_type": "markdown",
   "metadata": {},
   "source": [
    "Logistic Regression"
   ]
  },
  {
   "cell_type": "code",
   "execution_count": 29,
   "metadata": {
    "collapsed": true
   },
   "outputs": [],
   "source": [
    "from sklearn.linear_model import LogisticRegression"
   ]
  },
  {
   "cell_type": "code",
   "execution_count": 66,
   "metadata": {
    "collapsed": false
   },
   "outputs": [],
   "source": [
    "clf1 = LogisticRegression(solver='lbfgs', class_weight='balanced', random_state=3421)\n",
    "clf1.fit(X_train, y_train)\n",
    "train_pred1 = clf1.predict(X_train)\n",
    "test_pred1 = clf1.predict(X_test)"
   ]
  },
  {
   "cell_type": "code",
   "execution_count": 67,
   "metadata": {
    "collapsed": false
   },
   "outputs": [
    {
     "name": "stdout",
     "output_type": "stream",
     "text": [
      "Accuracy Train\tAccuracy Test\n",
      "0.520788095238 \t0.524044444444\n"
     ]
    }
   ],
   "source": [
    "print \"Accuracy Train\\tAccuracy Test\"\n",
    "print accuracy_score(y_train, train_pred1), \"\\t\", accuracy_score(y_test, test_pred1)"
   ]
  },
  {
   "cell_type": "code",
   "execution_count": 68,
   "metadata": {
    "collapsed": false
   },
   "outputs": [
    {
     "data": {
      "text/plain": [
       "(array([ 0.98165714,  0.02893359,  0.05362645]),\n",
       " array([ 0.52175518,  0.26058183,  0.64902078]),\n",
       " array([ 0.68136291,  0.05208405,  0.09906729]),\n",
       " array([401054,   7253,  11693]))"
      ]
     },
     "execution_count": 68,
     "metadata": {},
     "output_type": "execute_result"
    }
   ],
   "source": [
    "precision_recall_fscore_support(y_train, train_pred1) # no action, click, book"
   ]
  },
  {
   "cell_type": "code",
   "execution_count": 69,
   "metadata": {
    "collapsed": false
   },
   "outputs": [
    {
     "data": {
      "text/plain": [
       "(array([ 0.98261097,  0.02816343,  0.05556566]),\n",
       " array([ 0.52433721,  0.26164154,  0.67018943]),\n",
       " array([ 0.68379192,  0.05085298,  0.10262282]),\n",
       " array([172000,   2985,   5015]))"
      ]
     },
     "execution_count": 69,
     "metadata": {},
     "output_type": "execute_result"
    }
   ],
   "source": [
    "precision_recall_fscore_support(y_test, test_pred1) # no action, click, book"
   ]
  },
  {
   "cell_type": "markdown",
   "metadata": {},
   "source": [
    "SGD Classifier"
   ]
  },
  {
   "cell_type": "code",
   "execution_count": 33,
   "metadata": {
    "collapsed": true
   },
   "outputs": [],
   "source": [
    "from sklearn.linear_model import SGDClassifier"
   ]
  },
  {
   "cell_type": "code",
   "execution_count": 46,
   "metadata": {
    "collapsed": true
   },
   "outputs": [],
   "source": [
    "clf2 = SGDClassifier(class_weight='balanced', random_state=3421)\n",
    "clf2.fit(X_train, y_train)\n",
    "train_pred2 = clf2.predict(X_train)\n",
    "test_pred2 = clf2.predict(X_test)"
   ]
  },
  {
   "cell_type": "code",
   "execution_count": 47,
   "metadata": {
    "collapsed": false
   },
   "outputs": [
    {
     "name": "stdout",
     "output_type": "stream",
     "text": [
      "Accuracy Train\tAccuracy Test\n",
      "0.944761904762 \t0.94555\n"
     ]
    }
   ],
   "source": [
    "print \"Accuracy Train\\tAccuracy Test\"\n",
    "print accuracy_score(y_train, train_pred2), \"\\t\", accuracy_score(y_test, test_pred2)"
   ]
  },
  {
   "cell_type": "code",
   "execution_count": 57,
   "metadata": {
    "collapsed": false
   },
   "outputs": [
    {
     "data": {
      "text/plain": [
       "(array([ 0.95487661,  0.01408771,  0.02586207]),\n",
       " array([  9.89230877e-01,   8.54818696e-03,   2.56563756e-04]),\n",
       " array([  9.71750209e-01,   1.06401236e-02,   5.08087052e-04]),\n",
       " array([401054,   7253,  11693]))"
      ]
     },
     "execution_count": 57,
     "metadata": {},
     "output_type": "execute_result"
    }
   ],
   "source": [
    "precision_recall_fscore_support(y_train, train_pred2) # no action, click, book"
   ]
  },
  {
   "cell_type": "code",
   "execution_count": 56,
   "metadata": {
    "collapsed": false
   },
   "outputs": [
    {
     "data": {
      "text/plain": [
       "(array([ 0.95552324,  0.01445396,  0.        ]),\n",
       " array([ 0.98937209,  0.00904523,  0.        ]),\n",
       " array([ 0.97215311,  0.01112714,  0.        ]),\n",
       " array([172000,   2985,   5015]))"
      ]
     },
     "execution_count": 56,
     "metadata": {},
     "output_type": "execute_result"
    }
   ],
   "source": [
    "precision_recall_fscore_support(y_test, test_pred2) # no action, click, book"
   ]
  },
  {
   "cell_type": "markdown",
   "metadata": {},
   "source": [
    "Ridge Classifier"
   ]
  },
  {
   "cell_type": "code",
   "execution_count": 36,
   "metadata": {
    "collapsed": false
   },
   "outputs": [],
   "source": [
    "from sklearn.linear_model import RidgeClassifier"
   ]
  },
  {
   "cell_type": "code",
   "execution_count": 50,
   "metadata": {
    "collapsed": true
   },
   "outputs": [],
   "source": [
    "clf3 = RidgeClassifier(class_weight='balanced', random_state=3421)\n",
    "clf3.fit(X_train, y_train)\n",
    "train_pred3 = clf3.predict(X_train)\n",
    "test_pred3 = clf3.predict(X_test)"
   ]
  },
  {
   "cell_type": "code",
   "execution_count": 51,
   "metadata": {
    "collapsed": false
   },
   "outputs": [
    {
     "name": "stdout",
     "output_type": "stream",
     "text": [
      "Accuracy Train\tAccuracy Test\n",
      "0.435571428571 \t0.437888888889\n"
     ]
    }
   ],
   "source": [
    "print \"Accuracy Train\\tAccuracy Test\"\n",
    "print accuracy_score(y_train, train_pred3), \"\\t\", accuracy_score(y_test, test_pred3)"
   ]
  },
  {
   "cell_type": "code",
   "execution_count": 55,
   "metadata": {
    "collapsed": false
   },
   "outputs": [
    {
     "data": {
      "text/plain": [
       "(array([ 0.98505153,  0.04583264,  0.06610504]),\n",
       " array([ 0.42062914,  0.6852337 ,  0.79320961]),\n",
       " array([ 0.58952419,  0.08591852,  0.12203947]),\n",
       " array([401054,   7253,  11693]))"
      ]
     },
     "execution_count": 55,
     "metadata": {},
     "output_type": "execute_result"
    }
   ],
   "source": [
    "precision_recall_fscore_support(y_train, train_pred3) # no action, click, book"
   ]
  },
  {
   "cell_type": "code",
   "execution_count": 54,
   "metadata": {
    "collapsed": false
   },
   "outputs": [
    {
     "data": {
      "text/plain": [
       "(array([ 0.98566245,  0.04443869,  0.06617414]),\n",
       " array([ 0.42327326,  0.68944724,  0.7894317 ]),\n",
       " array([ 0.59222653,  0.08349562,  0.12211221]),\n",
       " array([172000,   2985,   5015]))"
      ]
     },
     "execution_count": 54,
     "metadata": {},
     "output_type": "execute_result"
    }
   ],
   "source": [
    "precision_recall_fscore_support(y_test, test_pred3) # no action, click, book"
   ]
  },
  {
   "cell_type": "code",
   "execution_count": null,
   "metadata": {
    "collapsed": true
   },
   "outputs": [],
   "source": []
  }
 ],
 "metadata": {
  "anaconda-cloud": {},
  "kernelspec": {
   "display_name": "Python [Root]",
   "language": "python",
   "name": "Python [Root]"
  },
  "language_info": {
   "codemirror_mode": {
    "name": "ipython",
    "version": 2
   },
   "file_extension": ".py",
   "mimetype": "text/x-python",
   "name": "python",
   "nbconvert_exporter": "python",
   "pygments_lexer": "ipython2",
   "version": "2.7.12"
  }
 },
 "nbformat": 4,
 "nbformat_minor": 0
}
